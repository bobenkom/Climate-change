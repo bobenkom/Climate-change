{
 "cells": [
  {
   "cell_type": "code",
   "execution_count": 35,
   "metadata": {},
   "outputs": [],
   "source": [
    "import pandas as pd"
   ]
  },
  {
   "cell_type": "code",
   "execution_count": 36,
   "metadata": {},
   "outputs": [
    {
     "data": {
      "text/plain": [
       "'Создаем файл в формате csv'"
      ]
     },
     "execution_count": 36,
     "metadata": {},
     "output_type": "execute_result"
    }
   ],
   "source": [
    "file_txt = open('wr112570.txt', 'r')\n",
    "file_csv = open('dataset.csv', 'w')\n",
    "for line in file_txt:\n",
    "    stroka = line.replace(';', ',').replace(' ', '')\n",
    "    file_csv.write(stroka)\n",
    "\n",
    "file_csv.close()\n",
    "file_txt.close()\n",
    "\n",
    "'''Создаем файл в формате csv'''"
   ]
  },
  {
   "cell_type": "code",
   "execution_count": 37,
   "metadata": {},
   "outputs": [
    {
     "data": {
      "text/plain": [
       "'Создаем датафрейм'"
      ]
     },
     "execution_count": 37,
     "metadata": {},
     "output_type": "execute_result"
    }
   ],
   "source": [
    "columns = ['station', 'year', 'month', 'day', 'summary', 'min_temperature', 'avarage_temperature', 'max_temperature', 'precipitation']\n",
    "df = pd.read_csv('dataset.csv', names = columns)\n",
    "\n",
    "'''Создаем датафрейм'''\n"
   ]
  },
  {
   "cell_type": "code",
   "execution_count": 38,
   "metadata": {},
   "outputs": [
    {
     "data": {
      "text/plain": [
       "'Удаляем ненужные столбцы и строки с пустями значениями, записываем в новый файл '"
      ]
     },
     "execution_count": 38,
     "metadata": {},
     "output_type": "execute_result"
    }
   ],
   "source": [
    "df_cleaned = df.drop(columns=['summary', 'min_temperature', 'precipitation'], axis=1)\n",
    "\n",
    "df_cleaned.dropna(inplace=True)\n",
    "df_cleaned['station'] = df_cleaned['station'].astype(int)\n",
    "\n",
    "df_cleaned.to_csv('cleaned_dataset.csv',  index=False)\n",
    "\n",
    "'''Удаляем ненужные столбцы и строки с пустями значениями, записываем в новый файл '''"
   ]
  },
  {
   "cell_type": "code",
   "execution_count": 39,
   "metadata": {},
   "outputs": [
    {
     "data": {
      "text/plain": [
       "'Добавляем данные о регионе метеостанаций'"
      ]
     },
     "execution_count": 39,
     "metadata": {},
     "output_type": "execute_result"
    }
   ],
   "source": [
    "df_first = pd.read_csv('cleaned_dataset_year.csv')\n",
    "df_second = pd.read_csv('stations.csv')\n",
    "df_new = df_first.merge(df_second, how='left', on='station')\n",
    "\n",
    "'''Добавляем данные о регионе метеостанаций'''"
   ]
  },
  {
   "cell_type": "code",
   "execution_count": 40,
   "metadata": {},
   "outputs": [],
   "source": [
    "df_new.dropna(axis=0, how=\"any\", thresh=None, subset=None, inplace=True)\n",
    "df_new['number of region'] = df_new['number of region'].astype(int)"
   ]
  },
  {
   "cell_type": "code",
   "execution_count": 41,
   "metadata": {},
   "outputs": [],
   "source": [
    "\"\"\"Считаем климатическую норму для периода 1961-1990\"\"\"\n",
    "\n",
    "norma = round(df_new[(df_new['year'] > 1960) & (df_new['year'] < 1991)].groupby(['day','month','station'])['max_temperature'].mean(), 1)\n",
    "norma\n",
    "df_norma = pd.DataFrame(norma, columns=['max_temperature']).reset_index()\n",
    "df_norma.rename(columns={'max_temperature':'climatic_norm'}, inplace=True)\n",
    "df_climatic_norm = df_new.merge(df_norma, how='outer', on=['day', 'month','station'])"
   ]
  },
  {
   "cell_type": "code",
   "execution_count": 42,
   "metadata": {},
   "outputs": [
    {
     "name": "stderr",
     "output_type": "stream",
     "text": [
      "/var/folders/pf/sj5w0_zs1fs2qhqbvvcnn2500000gn/T/ipykernel_52830/1142801032.py:4: SettingWithCopyWarning: \n",
      "A value is trying to be set on a copy of a slice from a DataFrame.\n",
      "Try using .loc[row_indexer,col_indexer] = value instead\n",
      "\n",
      "See the caveats in the documentation: https://pandas.pydata.org/pandas-docs/stable/user_guide/indexing.html#returning-a-view-versus-a-copy\n",
      "  df_result['difference'] = round(df_climatic_norm['max_temperature'] - df_climatic_norm['climatic_norm'],1)\n"
     ]
    }
   ],
   "source": [
    "'''Смотрим разницу среднесуточных температур и климатической нормы в период с 2010 по 2019 гг.'''\n",
    "\n",
    "df_result = df_climatic_norm[(df_climatic_norm['year'] > 2009) & (df_climatic_norm['year'] < 2020)]\n",
    "df_result['difference'] = round(df_climatic_norm['max_temperature'] - df_climatic_norm['climatic_norm'],1)\n",
    "df_result.to_csv('anomalies.csv',  index=False)"
   ]
  },
  {
   "cell_type": "code",
   "execution_count": 43,
   "metadata": {},
   "outputs": [],
   "source": [
    "\"\"\"Считаем аномальные дни (превышают 5 градусов от климатической нормы) в каждом регионе\"\"\"\n",
    "df_days = df_result.loc[df_result['difference'] > 5]\n",
    "df_region = pd.DataFrame(df_days.groupby(['region', 'year','station']).count()['day'])\n",
    "\n",
    "region_mean = round(df_region.groupby(['region', 'year']).mean()['day'], 2)\n",
    "region_mean.to_excel('count_anomalies.xlsx',  index=True)"
   ]
  },
  {
   "cell_type": "code",
   "execution_count": 44,
   "metadata": {},
   "outputs": [
    {
     "data": {
      "text/html": [
       "<div>\n",
       "<style scoped>\n",
       "    .dataframe tbody tr th:only-of-type {\n",
       "        vertical-align: middle;\n",
       "    }\n",
       "\n",
       "    .dataframe tbody tr th {\n",
       "        vertical-align: top;\n",
       "    }\n",
       "\n",
       "    .dataframe thead th {\n",
       "        text-align: right;\n",
       "    }\n",
       "</style>\n",
       "<table border=\"1\" class=\"dataframe\">\n",
       "  <thead>\n",
       "    <tr style=\"text-align: right;\">\n",
       "      <th></th>\n",
       "      <th>station</th>\n",
       "      <th>name of station</th>\n",
       "      <th>number of region</th>\n",
       "      <th>region</th>\n",
       "    </tr>\n",
       "  </thead>\n",
       "  <tbody>\n",
       "    <tr>\n",
       "      <th>0</th>\n",
       "      <td>20046</td>\n",
       "      <td>Им.Э.Т.Кренкеля,ГМО</td>\n",
       "      <td>11.0</td>\n",
       "      <td>Архангельская область</td>\n",
       "    </tr>\n",
       "    <tr>\n",
       "      <th>1</th>\n",
       "      <td>20069</td>\n",
       "      <td>Визе</td>\n",
       "      <td>4.0</td>\n",
       "      <td>Красноярский край</td>\n",
       "    </tr>\n",
       "    <tr>\n",
       "      <th>2</th>\n",
       "      <td>20087</td>\n",
       "      <td>Голомянный</td>\n",
       "      <td>4.0</td>\n",
       "      <td>Красноярский край</td>\n",
       "    </tr>\n",
       "    <tr>\n",
       "      <th>3</th>\n",
       "      <td>20289</td>\n",
       "      <td>Русский</td>\n",
       "      <td>4.0</td>\n",
       "      <td>Красноярский край</td>\n",
       "    </tr>\n",
       "    <tr>\n",
       "      <th>4</th>\n",
       "      <td>20292</td>\n",
       "      <td>Им.Е.К.Федорова,ГМО</td>\n",
       "      <td>4.0</td>\n",
       "      <td>Красноярский край</td>\n",
       "    </tr>\n",
       "    <tr>\n",
       "      <th>...</th>\n",
       "      <td>...</td>\n",
       "      <td>...</td>\n",
       "      <td>...</td>\n",
       "      <td>...</td>\n",
       "    </tr>\n",
       "    <tr>\n",
       "      <th>521</th>\n",
       "      <td>37461</td>\n",
       "      <td>Сулак,высокогорная</td>\n",
       "      <td>82.0</td>\n",
       "      <td>Республика Дагестан</td>\n",
       "    </tr>\n",
       "    <tr>\n",
       "      <th>522</th>\n",
       "      <td>37470</td>\n",
       "      <td>Дербент</td>\n",
       "      <td>82.0</td>\n",
       "      <td>Республика Дагестан</td>\n",
       "    </tr>\n",
       "    <tr>\n",
       "      <th>523</th>\n",
       "      <td>37471</td>\n",
       "      <td>Буйнакск</td>\n",
       "      <td>82.0</td>\n",
       "      <td>Республика Дагестан</td>\n",
       "    </tr>\n",
       "    <tr>\n",
       "      <th>524</th>\n",
       "      <td>37472</td>\n",
       "      <td>Махачкала</td>\n",
       "      <td>82.0</td>\n",
       "      <td>Республика Дагестан</td>\n",
       "    </tr>\n",
       "    <tr>\n",
       "      <th>525</th>\n",
       "      <td>37663</td>\n",
       "      <td>Ахты</td>\n",
       "      <td>82.0</td>\n",
       "      <td>Республика Дагестан</td>\n",
       "    </tr>\n",
       "  </tbody>\n",
       "</table>\n",
       "<p>526 rows × 4 columns</p>\n",
       "</div>"
      ],
      "text/plain": [
       "     station      name of station  number of region                 region\n",
       "0      20046  Им.Э.Т.Кренкеля,ГМО              11.0  Архангельская область\n",
       "1      20069                 Визе               4.0      Красноярский край\n",
       "2      20087           Голомянный               4.0      Красноярский край\n",
       "3      20289              Русский               4.0      Красноярский край\n",
       "4      20292  Им.Е.К.Федорова,ГМО               4.0      Красноярский край\n",
       "..       ...                  ...               ...                    ...\n",
       "521    37461   Сулак,высокогорная              82.0    Республика Дагестан\n",
       "522    37470              Дербент              82.0    Республика Дагестан\n",
       "523    37471             Буйнакск              82.0    Республика Дагестан\n",
       "524    37472            Махачкала              82.0    Республика Дагестан\n",
       "525    37663                 Ахты              82.0    Республика Дагестан\n",
       "\n",
       "[526 rows x 4 columns]"
      ]
     },
     "execution_count": 44,
     "metadata": {},
     "output_type": "execute_result"
    }
   ],
   "source": [
    "df_second"
   ]
  }
 ],
 "metadata": {
  "interpreter": {
   "hash": "be1e463dbea140b37e69fe96249d2cafcf30b8470bcb7ba3aabcea31d036332a"
  },
  "kernelspec": {
   "display_name": "Python 3.8.5 64-bit ('base': conda)",
   "name": "python3"
  },
  "language_info": {
   "codemirror_mode": {
    "name": "ipython",
    "version": 3
   },
   "file_extension": ".py",
   "mimetype": "text/x-python",
   "name": "python",
   "nbconvert_exporter": "python",
   "pygments_lexer": "ipython3",
   "version": "3.8.5"
  },
  "orig_nbformat": 4
 },
 "nbformat": 4,
 "nbformat_minor": 2
}

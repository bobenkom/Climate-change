{
 "cells": [
  {
   "cell_type": "code",
   "execution_count": 2,
   "metadata": {},
   "outputs": [],
   "source": [
    "import pandas as pd"
   ]
  },
  {
   "cell_type": "code",
   "execution_count": 68,
   "metadata": {},
   "outputs": [],
   "source": [
    "file_txt = open('wr112570.txt', 'r')\n",
    "file_csv = open('dataset.csv', 'w')\n",
    "for line in file_txt:\n",
    "    stroka = line.replace(';', ',').replace(' ', '')\n",
    "    file_csv.write(stroka)\n",
    "\n",
    "file_csv.close()\n",
    "file_txt.close()\n",
    "\n",
    "'''Создаем файл в формате csv'''"
   ]
  },
  {
   "cell_type": "code",
   "execution_count": 67,
   "metadata": {},
   "outputs": [],
   "source": [
    "columns = ['station', 'year', 'month', 'day', 'summary', 'min_temperature', 'avarage_temperature', 'max_temperature', 'precipitation']\n",
    "df = pd.read_csv('dataset.csv', names = columns)\n",
    "\n",
    "'''Создаем датафрейм'''\n"
   ]
  },
  {
   "cell_type": "code",
   "execution_count": 66,
   "metadata": {},
   "outputs": [],
   "source": [
    "df_filtered = df[(df['month'] > 4) & (df['month'] < 10)]\n",
    "\n",
    "'''Оставляем только нужные месяцы: май, июнь, июль, август, сентябрь'''"
   ]
  },
  {
   "cell_type": "code",
   "execution_count": 65,
   "metadata": {},
   "outputs": [],
   "source": [
    "df_cleaned = df_filtered.drop(columns=['summary', 'min_temperature', 'precipitation'], axis=1)\n",
    "\n",
    "df_cleaned.dropna(inplace=True)\n",
    "df_cleaned['station'] = df_cleaned['station'].astype(int)\n",
    "\n",
    "df_cleaned.to_csv('cleaned_dataset.csv',  index=False)\n",
    "\n",
    "'''Удаляем ненужные столбцы и строки с пустями значениями, записываем в новый файл '''"
   ]
  },
  {
   "cell_type": "code",
   "execution_count": 69,
   "metadata": {},
   "outputs": [],
   "source": [
    "df_first = pd.read_csv('cleaned_dataset.csv')\n",
    "df_second = pd.read_csv('stations.csv')\n",
    "df_new = df_first.merge(df_second, how='left', on='station')\n",
    "\n",
    "'''Добавляем данные о регионе метеостанаций'''"
   ]
  },
  {
   "cell_type": "code",
   "execution_count": 63,
   "metadata": {},
   "outputs": [],
   "source": [
    "df_new.dropna(axis=0, how=\"any\", thresh=None, subset=None, inplace=True)\n",
    "df_new['number of region'] = df_new['number of region'].astype(int)"
   ]
  },
  {
   "cell_type": "code",
   "execution_count": 8,
   "metadata": {},
   "outputs": [],
   "source": [
    "\"\"\"Считаем климатическую норму для периода 1960-2009\"\"\"\n",
    "\n",
    "norma = round(df_new[(df_new['year'] > 1959) & (df_new['year'] < 2010)].groupby(['day','month','station'])['max_temperature'].mean(), 1)\n",
    "norma\n",
    "df_norma = pd.DataFrame(norma, columns=['max_temperature']).reset_index()\n",
    "df_norma.rename(columns={'max_temperature':'climatic_norm'}, inplace=True)\n",
    "df_climatic_norm = df_new.merge(df_norma, how='outer', on=['day', 'month','station'])"
   ]
  },
  {
   "cell_type": "code",
   "execution_count": 70,
   "metadata": {},
   "outputs": [],
   "source": [
    "'''Смотрим разницу среднесуточных температур и климатической нормы в период с 2010 по 2019 гг.'''\n",
    "\n",
    "df_result = df_climatic_norm[(df_climatic_norm['year'] > 2009) & (df_climatic_norm['year'] < 2020)]\n",
    "df_result['difference'] = round(df_climatic_norm['max_temperature'] - df_climatic_norm['climatic_norm'],1)\n",
    "df_result.to_csv('anomalies.csv',  index=False)"
   ]
  },
  {
   "cell_type": "code",
   "execution_count": 59,
   "metadata": {},
   "outputs": [],
   "source": [
    "'''Считаем среднемесячное температурное отклонение для всех регионов России в период с 2010 по 2019 гг.'''\n",
    "\n",
    "df_month = pd.DataFrame(df_result.groupby(['region','station','year','month']).sum()['difference']).reset_index()\n",
    "\n",
    "def average(row):\n",
    "    if row.month == 5 or row.month == 7 or row.month == 8:\n",
    "        month_average = row.difference / 31\n",
    "    else:\n",
    "        month_average = row.difference / 30\n",
    "    return month_average\n",
    "\n",
    "df_month['month_average'] = df_month.apply(lambda row: average(row), axis=1)\n",
    "\n",
    "\n",
    "df_region_average_station = pd.DataFrame(df_month.groupby(['region', 'year', 'month']).count()['station'])\n",
    "df_region_average_month = pd.DataFrame(df_month.groupby(['region', 'year', 'month']).sum()['month_average'])\n",
    "\n",
    "df_united = df_region_average_station.merge(df_region_average_month, how='outer', on=['region', 'year', 'month'])\n",
    "df_united['mean_monthly_temperature_deviation'] = round(df_united['month_average'] / df_united['station'], 2)\n",
    "df_result_mean = df_united.drop(columns=['station', 'month_average'], axis=1).reset_index()\n",
    "df_result_mean.to_excel('mean_monthly_temperature_deviation.xlsx',  index=True)\n",
    "df_result_mean.to_csv('mean_monthly_temperature_deviation.csv',  index=True)"
   ]
  }
 ],
 "metadata": {
  "interpreter": {
   "hash": "be1e463dbea140b37e69fe96249d2cafcf30b8470bcb7ba3aabcea31d036332a"
  },
  "kernelspec": {
   "display_name": "Python 3.8.5 64-bit ('base': conda)",
   "name": "python3"
  },
  "language_info": {
   "codemirror_mode": {
    "name": "ipython",
    "version": 3
   },
   "file_extension": ".py",
   "mimetype": "text/x-python",
   "name": "python",
   "nbconvert_exporter": "python",
   "pygments_lexer": "ipython3",
   "version": "3.8.5"
  },
  "orig_nbformat": 4
 },
 "nbformat": 4,
 "nbformat_minor": 2
}

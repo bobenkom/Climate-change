{
 "cells": [
  {
   "cell_type": "code",
   "execution_count": 2,
   "metadata": {},
   "outputs": [],
   "source": [
    "import pandas as pd"
   ]
  },
  {
   "cell_type": "code",
   "execution_count": 2,
   "metadata": {},
   "outputs": [
    {
     "data": {
      "text/plain": [
       "'Создаем файл в формате csv'"
      ]
     },
     "execution_count": 2,
     "metadata": {},
     "output_type": "execute_result"
    }
   ],
   "source": [
    "file_txt = open('wr112006.txt', 'r')\n",
    "file_csv = open('dataset.csv', 'w')\n",
    "for line in file_txt:\n",
    "    stroka = line.replace(';', ',').replace(' ', '')\n",
    "    file_csv.write(stroka)\n",
    "\n",
    "file_csv.close()\n",
    "file_txt.close()\n",
    "\n",
    "'''Создаем файл в формате csv'''"
   ]
  },
  {
   "cell_type": "code",
   "execution_count": 3,
   "metadata": {},
   "outputs": [
    {
     "data": {
      "text/plain": [
       "'Создаем датафрейм'"
      ]
     },
     "execution_count": 3,
     "metadata": {},
     "output_type": "execute_result"
    }
   ],
   "source": [
    "columns = ['station', 'year', 'month', 'day', 'summary', 'min_temperature', 'avarage_temperature', 'max_temperature', 'precipitation']\n",
    "df = pd.read_csv('dataset.csv', names = columns)\n",
    "\n",
    "'''Создаем датафрейм'''\n"
   ]
  },
  {
   "cell_type": "code",
   "execution_count": 4,
   "metadata": {},
   "outputs": [
    {
     "name": "stdout",
     "output_type": "stream",
     "text": [
      "         station  year  month  day  summary  min_temperature  \\\n",
      "120        20046  1990      5    1        0            -17.9   \n",
      "121        20046  1990      5    2        0            -17.5   \n",
      "122        20046  1990      5    3        0            -18.1   \n",
      "123        20046  1990      5    4        0            -13.7   \n",
      "124        20046  1990      5    5        0            -16.0   \n",
      "...          ...   ...    ...  ...      ...              ...   \n",
      "5770901    37663  2020      9   26        0             10.0   \n",
      "5770902    37663  2020      9   27        0             11.6   \n",
      "5770903    37663  2020      9   28        0             11.3   \n",
      "5770904    37663  2020      9   29        0              9.1   \n",
      "5770905    37663  2020      9   30        0              5.3   \n",
      "\n",
      "         avarage_temperature  max_temperature  precipitation  \n",
      "120                    -16.7            -12.5            0.0  \n",
      "121                    -15.3            -12.9            0.0  \n",
      "122                    -14.9            -12.6            0.0  \n",
      "123                    -12.6             -9.5            0.0  \n",
      "124                    -13.2            -11.0            0.0  \n",
      "...                      ...              ...            ...  \n",
      "5770901                 14.7             21.1            0.0  \n",
      "5770902                 13.8             16.6            0.0  \n",
      "5770903                 12.8             15.7            0.8  \n",
      "5770904                 13.1             19.4            0.0  \n",
      "5770905                 10.1             17.3            0.0  \n",
      "\n",
      "[2418409 rows x 9 columns]\n"
     ]
    }
   ],
   "source": [
    "df_filtered = df[(df['month'] > 4) & (df['month'] < 10)]\n",
    "\n",
    "'''Оставляем только нужные месяцы: май, июнь, июль, август, сентябрь'''\n",
    "\n",
    "print(df_filtered)"
   ]
  },
  {
   "cell_type": "code",
   "execution_count": 5,
   "metadata": {},
   "outputs": [
    {
     "name": "stdout",
     "output_type": "stream",
     "text": [
      "         station  year  month  day  avarage_temperature  max_temperature\n",
      "120        20046  1990      5    1                -16.7            -12.5\n",
      "121        20046  1990      5    2                -15.3            -12.9\n",
      "122        20046  1990      5    3                -14.9            -12.6\n",
      "123        20046  1990      5    4                -12.6             -9.5\n",
      "124        20046  1990      5    5                -13.2            -11.0\n",
      "...          ...   ...    ...  ...                  ...              ...\n",
      "5770901    37663  2020      9   26                 14.7             21.1\n",
      "5770902    37663  2020      9   27                 13.8             16.6\n",
      "5770903    37663  2020      9   28                 12.8             15.7\n",
      "5770904    37663  2020      9   29                 13.1             19.4\n",
      "5770905    37663  2020      9   30                 10.1             17.3\n",
      "\n",
      "[2376728 rows x 6 columns]\n"
     ]
    },
    {
     "data": {
      "text/plain": [
       "'Удаляем ненужные столбы и строки с пустями значениями, записываем в новый файл '"
      ]
     },
     "execution_count": 5,
     "metadata": {},
     "output_type": "execute_result"
    }
   ],
   "source": [
    "df_cleaned = df_filtered.drop(columns=['summary', 'min_temperature', 'precipitation'], axis=1)\n",
    "\n",
    "df_cleaned.dropna(inplace=True)\n",
    "df_cleaned['station'] = df_cleaned['station'].astype(int)\n",
    "\n",
    "print(df_cleaned)\n",
    "\n",
    "df_cleaned.to_csv('cleaned_dataset.csv',  index=False)\n",
    "\n",
    "'''Удаляем ненужные столбы и строки с пустями значениями, записываем в новый файл '''"
   ]
  },
  {
   "cell_type": "code",
   "execution_count": 39,
   "metadata": {},
   "outputs": [
    {
     "name": "stdout",
     "output_type": "stream",
     "text": [
      "         station  year  month  day  avarage_temperature  max_temperature\n",
      "0          20046  1990      5    1                -16.7            -12.5\n",
      "1          20046  1990      5    2                -15.3            -12.9\n",
      "2          20046  1990      5    3                -14.9            -12.6\n",
      "3          20046  1990      5    4                -12.6             -9.5\n",
      "4          20046  1990      5    5                -13.2            -11.0\n",
      "...          ...   ...    ...  ...                  ...              ...\n",
      "2376723    37663  2020      9   26                 14.7             21.1\n",
      "2376724    37663  2020      9   27                 13.8             16.6\n",
      "2376725    37663  2020      9   28                 12.8             15.7\n",
      "2376726    37663  2020      9   29                 13.1             19.4\n",
      "2376727    37663  2020      9   30                 10.1             17.3\n",
      "\n",
      "[2376728 rows x 6 columns]\n"
     ]
    }
   ],
   "source": [
    "df_first = pd.read_csv('cleaned_dataset.csv')\n",
    "df_second = pd.read_csv('stations.csv')"
   ]
  },
  {
   "cell_type": "code",
   "execution_count": 42,
   "metadata": {},
   "outputs": [],
   "source": [
    "df_new = df_first.merge(df_second, how='left', on='station')"
   ]
  },
  {
   "cell_type": "code",
   "execution_count": 43,
   "metadata": {},
   "outputs": [
    {
     "data": {
      "text/plain": [
       "Иркутская область                      105834\n",
       "Республика Бурятия                      70966\n",
       "Красноярский край                       55508\n",
       "Саратовская область                     37942\n",
       "Томская область                         37913\n",
       "Алтайский край                          37424\n",
       "Забайкальский край                      35573\n",
       "Краснодарский край                      32918\n",
       "Республика Дагестан                     32389\n",
       "Ростовская область                      29742\n",
       "Новосибирская область                   23715\n",
       "Республика Алтай                        23684\n",
       "Республика Тыва                         23337\n",
       "Ставропольский край                     19919\n",
       "Оренбургская область                    18972\n",
       "Волгоградская область                   18972\n",
       "Кемеровская область - Кузбасс           18972\n",
       "Республика Саха (Якутия)                18924\n",
       "Белгородская область                    14229\n",
       "Курская область                         14229\n",
       "Республика Хакасия                      14229\n",
       "Воронежская область                     14224\n",
       "Республика Калмыкия                     14167\n",
       "Карачаево-Черкесская республика         13983\n",
       "Республика Крым                         13676\n",
       "Амурская область                        13664\n",
       "Астраханская область                     9486\n",
       "Чеченская республика                     7705\n",
       "Республика Башкортостан                  4743\n",
       "Челябинская область                      4743\n",
       "Омская область                           4743\n",
       "Липецкая область                         4743\n",
       "Самарская область                        4743\n",
       "Республика Северная Осетия — Алания      4554\n",
       "Архангельская область                    3750\n",
       "Name: region, dtype: int64"
      ]
     },
     "execution_count": 43,
     "metadata": {},
     "output_type": "execute_result"
    }
   ],
   "source": [
    "df_new['region'].value_counts()"
   ]
  },
  {
   "cell_type": "code",
   "execution_count": 34,
   "metadata": {},
   "outputs": [
    {
     "name": "stdout",
     "output_type": "stream",
     "text": [
      "<class 'pandas.core.frame.DataFrame'>\n",
      "RangeIndex: 530 entries, 0 to 529\n",
      "Data columns (total 4 columns):\n",
      " #   Column            Non-Null Count  Dtype  \n",
      "---  ------            --------------  -----  \n",
      " 0   station           530 non-null    int64  \n",
      " 1   name of station   530 non-null    object \n",
      " 2   number of region  175 non-null    float64\n",
      " 3   region            175 non-null    object \n",
      "dtypes: float64(1), int64(1), object(2)\n",
      "memory usage: 16.7+ KB\n"
     ]
    }
   ],
   "source": [
    "df_new.to_csv('full_dataset.csv',  index=False)\n"
   ]
  }
 ],
 "metadata": {
  "interpreter": {
   "hash": "be1e463dbea140b37e69fe96249d2cafcf30b8470bcb7ba3aabcea31d036332a"
  },
  "kernelspec": {
   "display_name": "Python 3.8.5 64-bit ('base': conda)",
   "name": "python3"
  },
  "language_info": {
   "codemirror_mode": {
    "name": "ipython",
    "version": 3
   },
   "file_extension": ".py",
   "mimetype": "text/x-python",
   "name": "python",
   "nbconvert_exporter": "python",
   "pygments_lexer": "ipython3",
   "version": "3.8.5"
  },
  "orig_nbformat": 4
 },
 "nbformat": 4,
 "nbformat_minor": 2
}

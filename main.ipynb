{
 "cells": [
  {
   "cell_type": "code",
   "execution_count": 91,
   "metadata": {},
   "outputs": [],
   "source": [
    "import pandas as pd"
   ]
  },
  {
   "cell_type": "code",
   "execution_count": 92,
   "metadata": {},
   "outputs": [
    {
     "data": {
      "text/plain": [
       "'Создаем файл в формате csv'"
      ]
     },
     "execution_count": 92,
     "metadata": {},
     "output_type": "execute_result"
    }
   ],
   "source": [
    "file_txt = open('wr112570.txt', 'r')\n",
    "file_csv = open('dataset.csv', 'w')\n",
    "for line in file_txt:\n",
    "    stroka = line.replace(';', ',').replace(' ', '')\n",
    "    file_csv.write(stroka)\n",
    "\n",
    "file_csv.close()\n",
    "file_txt.close()\n",
    "\n",
    "'''Создаем файл в формате csv'''"
   ]
  },
  {
   "cell_type": "code",
   "execution_count": 93,
   "metadata": {},
   "outputs": [
    {
     "data": {
      "text/plain": [
       "'Создаем датафрейм'"
      ]
     },
     "execution_count": 93,
     "metadata": {},
     "output_type": "execute_result"
    }
   ],
   "source": [
    "columns = ['station', 'year', 'month', 'day', 'summary', 'min_temperature', 'avarage_temperature', 'max_temperature', 'precipitation']\n",
    "df = pd.read_csv('dataset.csv', names = columns)\n",
    "\n",
    "'''Создаем датафрейм'''\n"
   ]
  },
  {
   "cell_type": "code",
   "execution_count": 94,
   "metadata": {},
   "outputs": [
    {
     "name": "stdout",
     "output_type": "stream",
     "text": [
      "         station  year  month  day  summary  min_temperature  \\\n",
      "120        20046  1969      5    1        0            -15.6   \n",
      "121        20046  1969      5    2        0            -19.3   \n",
      "122        20046  1969      5    3        0            -19.6   \n",
      "123        20046  1969      5    4        0            -16.8   \n",
      "124        20046  1969      5    5        0            -15.9   \n",
      "...          ...   ...    ...  ...      ...              ...   \n",
      "9820837    37663  2020      9   26        0             10.0   \n",
      "9820838    37663  2020      9   27        0             11.6   \n",
      "9820839    37663  2020      9   28        0             11.3   \n",
      "9820840    37663  2020      9   29        0              9.1   \n",
      "9820841    37663  2020      9   30        0              5.3   \n",
      "\n",
      "         avarage_temperature  max_temperature  precipitation  \n",
      "120                     -8.7             -4.4            0.4  \n",
      "121                    -14.9             -6.2            0.6  \n",
      "122                    -15.9            -12.5            1.8  \n",
      "123                    -15.0            -12.3            0.2  \n",
      "124                    -13.7            -10.8            0.0  \n",
      "...                      ...              ...            ...  \n",
      "9820837                 14.7             21.1            0.0  \n",
      "9820838                 13.8             16.6            0.0  \n",
      "9820839                 12.8             15.7            0.8  \n",
      "9820840                 13.1             19.4            0.0  \n",
      "9820841                 10.1             17.3            0.0  \n",
      "\n",
      "[4114994 rows x 9 columns]\n"
     ]
    }
   ],
   "source": [
    "df_filtered = df[(df['month'] > 4) & (df['month'] < 10)]\n",
    "\n",
    "'''Оставляем только нужные месяцы: май, июнь, июль, август, сентябрь'''\n",
    "\n",
    "print(df_filtered)"
   ]
  },
  {
   "cell_type": "code",
   "execution_count": 95,
   "metadata": {},
   "outputs": [
    {
     "name": "stdout",
     "output_type": "stream",
     "text": [
      "         station  year  month  day  avarage_temperature  max_temperature\n",
      "120        20046  1969      5    1                 -8.7             -4.4\n",
      "121        20046  1969      5    2                -14.9             -6.2\n",
      "122        20046  1969      5    3                -15.9            -12.5\n",
      "123        20046  1969      5    4                -15.0            -12.3\n",
      "124        20046  1969      5    5                -13.7            -10.8\n",
      "...          ...   ...    ...  ...                  ...              ...\n",
      "9820837    37663  2020      9   26                 14.7             21.1\n",
      "9820838    37663  2020      9   27                 13.8             16.6\n",
      "9820839    37663  2020      9   28                 12.8             15.7\n",
      "9820840    37663  2020      9   29                 13.1             19.4\n",
      "9820841    37663  2020      9   30                 10.1             17.3\n",
      "\n",
      "[4031025 rows x 6 columns]\n"
     ]
    },
    {
     "data": {
      "text/plain": [
       "'Удаляем ненужные столбцы и строки с пустями значениями, записываем в новый файл '"
      ]
     },
     "execution_count": 95,
     "metadata": {},
     "output_type": "execute_result"
    }
   ],
   "source": [
    "df_cleaned = df_filtered.drop(columns=['summary', 'min_temperature', 'precipitation'], axis=1)\n",
    "\n",
    "df_cleaned.dropna(inplace=True)\n",
    "df_cleaned['station'] = df_cleaned['station'].astype(int)\n",
    "\n",
    "print(df_cleaned)\n",
    "\n",
    "df_cleaned.to_csv('cleaned_dataset.csv',  index=False)\n",
    "\n",
    "'''Удаляем ненужные столбцы и строки с пустями значениями, записываем в новый файл '''"
   ]
  },
  {
   "cell_type": "code",
   "execution_count": 96,
   "metadata": {},
   "outputs": [],
   "source": [
    "df_first = pd.read_csv('cleaned_dataset.csv')\n",
    "df_second = pd.read_csv('stations.csv')\n"
   ]
  },
  {
   "cell_type": "code",
   "execution_count": 97,
   "metadata": {},
   "outputs": [
    {
     "data": {
      "text/plain": [
       "'Добавляем данные о регионе метеостанаций'"
      ]
     },
     "execution_count": 97,
     "metadata": {},
     "output_type": "execute_result"
    }
   ],
   "source": [
    "df_new = df_first.merge(df_second, how='left', on='station')\n",
    "\n",
    "'''Добавляем данные о регионе метеостанаций'''"
   ]
  },
  {
   "cell_type": "code",
   "execution_count": 98,
   "metadata": {},
   "outputs": [
    {
     "name": "stdout",
     "output_type": "stream",
     "text": [
      "         station  year  month  day  avarage_temperature  max_temperature  \\\n",
      "0          20046  1969      5    1                 -8.7             -4.4   \n",
      "1          20046  1969      5    2                -14.9             -6.2   \n",
      "2          20046  1969      5    3                -15.9            -12.5   \n",
      "3          20046  1969      5    4                -15.0            -12.3   \n",
      "4          20046  1969      5    5                -13.7            -10.8   \n",
      "...          ...   ...    ...  ...                  ...              ...   \n",
      "4031020    37663  2020      9   26                 14.7             21.1   \n",
      "4031021    37663  2020      9   27                 13.8             16.6   \n",
      "4031022    37663  2020      9   28                 12.8             15.7   \n",
      "4031023    37663  2020      9   29                 13.1             19.4   \n",
      "4031024    37663  2020      9   30                 10.1             17.3   \n",
      "\n",
      "             name of station  number of region                 region  \n",
      "0        Им.Э.Т.Кренкеля,ГМО                11  Архангельская область  \n",
      "1        Им.Э.Т.Кренкеля,ГМО                11  Архангельская область  \n",
      "2        Им.Э.Т.Кренкеля,ГМО                11  Архангельская область  \n",
      "3        Им.Э.Т.Кренкеля,ГМО                11  Архангельская область  \n",
      "4        Им.Э.Т.Кренкеля,ГМО                11  Архангельская область  \n",
      "...                      ...               ...                    ...  \n",
      "4031020                 Ахты                82    Республика Дагестан  \n",
      "4031021                 Ахты                82    Республика Дагестан  \n",
      "4031022                 Ахты                82    Республика Дагестан  \n",
      "4031023                 Ахты                82    Республика Дагестан  \n",
      "4031024                 Ахты                82    Республика Дагестан  \n",
      "\n",
      "[3996720 rows x 9 columns]\n"
     ]
    }
   ],
   "source": [
    "df_new.dropna(axis=0, how=\"any\", thresh=None, subset=None, inplace=True)\n",
    "df_new['number of region'] = df_new['number of region'].astype(int)\n",
    "print(df_new)"
   ]
  },
  {
   "cell_type": "code",
   "execution_count": 99,
   "metadata": {},
   "outputs": [],
   "source": [
    "\"\"\"Считаем климатическую норму для периода 1960-2005\"\"\"\n",
    "\n",
    "norma = round(df_new[(df_new['year'] > 1959) & (df_new['year'] < 2006)].groupby(['day','month','station']).mean()['max_temperature'], 1)\n",
    "\n",
    "df_norma = pd.DataFrame(norma, columns=['max_temperature']).reset_index()\n",
    "df_norma.rename(columns={'max_temperature':'climatic_norm'}, inplace=True)\n",
    "df_climatic_norm = df_new.merge(df_norma, how='outer', on=['day', 'month','station'])"
   ]
  },
  {
   "cell_type": "code",
   "execution_count": 100,
   "metadata": {},
   "outputs": [
    {
     "name": "stderr",
     "output_type": "stream",
     "text": [
      "<ipython-input-100-99bdda8b3745>:3: SettingWithCopyWarning: \n",
      "A value is trying to be set on a copy of a slice from a DataFrame.\n",
      "Try using .loc[row_indexer,col_indexer] = value instead\n",
      "\n",
      "See the caveats in the documentation: https://pandas.pydata.org/pandas-docs/stable/user_guide/indexing.html#returning-a-view-versus-a-copy\n",
      "  df_result['difference'] = round(df_climatic_norm['max_temperature'] - df_climatic_norm['climatic_norm'],1)\n"
     ]
    }
   ],
   "source": [
    "\n",
    "'''Смотрим дни в период с 2000 по 2019 гг., когда максимальная температура на станции на 5 градусов превышала климатическую норму'''\n",
    "df_result = df_climatic_norm[(df_climatic_norm['year'] > 2005) & (df_climatic_norm['year'] < 2020)]\n",
    "df_result['difference'] = round(df_climatic_norm['max_temperature'] - df_climatic_norm['climatic_norm'],1)\n",
    "\n",
    "df_anomalies = df_result.loc[df_result['difference'] >= 5.0].sort_values(by=[\"region\", \"year\", \"month\", \"day\"],ascending=[True, True, True, True])\n",
    "df_anomalies.to_csv('anomalies.csv',  index=False)"
   ]
  },
  {
   "cell_type": "code",
   "execution_count": 101,
   "metadata": {},
   "outputs": [],
   "source": [
    "# statistic = pd.DataFrame(df_anomalies.groupby(['region', 'year', 'month']).count()['day'])\n",
    "# with pd.option_context('display.max_rows', None, 'display.max_columns', None):  \n",
    "#     print(statistic)"
   ]
  }
 ],
 "metadata": {
  "interpreter": {
   "hash": "be1e463dbea140b37e69fe96249d2cafcf30b8470bcb7ba3aabcea31d036332a"
  },
  "kernelspec": {
   "display_name": "Python 3.8.5 64-bit ('base': conda)",
   "name": "python3"
  },
  "language_info": {
   "codemirror_mode": {
    "name": "ipython",
    "version": 3
   },
   "file_extension": ".py",
   "mimetype": "text/x-python",
   "name": "python",
   "nbconvert_exporter": "python",
   "pygments_lexer": "ipython3",
   "version": "3.8.5"
  },
  "orig_nbformat": 4
 },
 "nbformat": 4,
 "nbformat_minor": 2
}

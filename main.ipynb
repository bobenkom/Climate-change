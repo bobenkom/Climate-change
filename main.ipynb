{
 "cells": [
  {
   "cell_type": "code",
   "execution_count": 3,
   "metadata": {},
   "outputs": [],
   "source": [
    "import pandas as pd\n",
    "\n",
    "file_txt = open('wr112006.txt', 'r')\n",
    "file_csv = open('dataset.csv', 'w')\n",
    "for line in file_txt:\n",
    "    stroka = line.replace(';', ',').replace(' ', '')\n",
    "    file_csv.write(stroka)\n",
    "\n"
   ]
  },
  {
   "cell_type": "code",
   "execution_count": 67,
   "metadata": {},
   "outputs": [],
   "source": [
    "columns = ['station', 'year', 'month', 'day', 'summary', 'min_temperature', 'avarage_temperature', 'max_temperature', 'precipitation']\n",
    "df = pd.read_csv('dataset.csv', names = columns)\n"
   ]
  },
  {
   "cell_type": "code",
   "execution_count": 95,
   "metadata": {},
   "outputs": [
    {
     "name": "stdout",
     "output_type": "stream",
     "text": [
      "         station  year  month  day  summary  min_temperature  \\\n",
      "120      20046.0  1990      5    1        0            -17.9   \n",
      "121      20046.0  1990      5    2        0            -17.5   \n",
      "122      20046.0  1990      5    3        0            -18.1   \n",
      "123      20046.0  1990      5    4        0            -13.7   \n",
      "124      20046.0  1990      5    5        0            -16.0   \n",
      "...          ...   ...    ...  ...      ...              ...   \n",
      "5770951  37663.0  2020      9   26        0             10.0   \n",
      "5770952  37663.0  2020      9   27        0             11.6   \n",
      "5770953  37663.0  2020      9   28        0             11.3   \n",
      "5770954  37663.0  2020      9   29        0              9.1   \n",
      "5770955  37663.0  2020      9   30        0              5.3   \n",
      "\n",
      "         avarage_temperature  max_temperature  precipitation  \n",
      "120                    -16.7            -12.5            0.0  \n",
      "121                    -15.3            -12.9            0.0  \n",
      "122                    -14.9            -12.6            0.0  \n",
      "123                    -12.6             -9.5            0.0  \n",
      "124                    -13.2            -11.0            0.0  \n",
      "...                      ...              ...            ...  \n",
      "5770951                 14.7             21.1            0.0  \n",
      "5770952                 13.8             16.6            0.0  \n",
      "5770953                 12.8             15.7            0.8  \n",
      "5770954                 13.1             19.4            0.0  \n",
      "5770955                 10.1             17.3            0.0  \n",
      "\n",
      "[2418441 rows x 9 columns]\n"
     ]
    }
   ],
   "source": [
    "df_filtered = df[(df['month'] > 4) & (df['month'] < 10)]\n",
    "\n",
    "print(df_filtered)"
   ]
  },
  {
   "cell_type": "code",
   "execution_count": 104,
   "metadata": {},
   "outputs": [
    {
     "name": "stdout",
     "output_type": "stream",
     "text": [
      "         station  year  month  day  avarage_temperature  max_temperature\n",
      "120      20046.0  1990      5    1                -16.7            -12.5\n",
      "121      20046.0  1990      5    2                -15.3            -12.9\n",
      "122      20046.0  1990      5    3                -14.9            -12.6\n",
      "123      20046.0  1990      5    4                -12.6             -9.5\n",
      "124      20046.0  1990      5    5                -13.2            -11.0\n",
      "...          ...   ...    ...  ...                  ...              ...\n",
      "5770951  37663.0  2020      9   26                 14.7             21.1\n",
      "5770952  37663.0  2020      9   27                 13.8             16.6\n",
      "5770953  37663.0  2020      9   28                 12.8             15.7\n",
      "5770954  37663.0  2020      9   29                 13.1             19.4\n",
      "5770955  37663.0  2020      9   30                 10.1             17.3\n",
      "\n",
      "[2376759 rows x 6 columns]\n"
     ]
    }
   ],
   "source": [
    "df_droped = df_filtered.drop(columns=['summary', 'min_temperature', 'precipitation'], axis=1)\n",
    "\n",
    "df_droped.dropna(inplace=True)\n",
    "df_rdf_droped['station'].astype(int)\n",
    "\n",
    "print(df_droped)\n"
   ]
  }
 ],
 "metadata": {
  "interpreter": {
   "hash": "be1e463dbea140b37e69fe96249d2cafcf30b8470bcb7ba3aabcea31d036332a"
  },
  "kernelspec": {
   "display_name": "Python 3.8.5 64-bit ('base': conda)",
   "name": "python3"
  },
  "language_info": {
   "codemirror_mode": {
    "name": "ipython",
    "version": 3
   },
   "file_extension": ".py",
   "mimetype": "text/x-python",
   "name": "python",
   "nbconvert_exporter": "python",
   "pygments_lexer": "ipython3",
   "version": "3.8.5"
  },
  "orig_nbformat": 4
 },
 "nbformat": 4,
 "nbformat_minor": 2
}
